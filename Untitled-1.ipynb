{
 "cells": [
  {
   "cell_type": "code",
   "execution_count": 1,
   "metadata": {},
   "outputs": [],
   "source": [
    "from Loss import MSE, MAE\n",
    "from LossHandler import LossHandler\n",
    "import Layer\n",
    "import numpy as np\n",
    "import Optimizers\n",
    "from Model import HomeMadeModel"
   ]
  },
  {
   "cell_type": "code",
   "execution_count": 2,
   "metadata": {},
   "outputs": [],
   "source": [
    "x = np.random.randn(1000,3)\n",
    "def y(x):\n",
    "    return (x*20 -10) + x*3\n",
    "y_true = y(x)"
   ]
  },
  {
   "cell_type": "code",
   "execution_count": 3,
   "metadata": {},
   "outputs": [],
   "source": [
    "l1 = Layer.InputLayer()\n",
    "l2 = Layer.Dense(l1,3,3)\n",
    "l3 = Layer.LeakyRelu(l2)\n",
    "l4 = Layer.Dense(l3,3,3)\n",
    "l5 = Layer.Relu(l4)\n",
    "structure = [l1,l2,l3,l4,l5]\n",
    "model = HomeMadeModel(structure=structure)"
   ]
  },
  {
   "cell_type": "code",
   "execution_count": 10,
   "metadata": {},
   "outputs": [],
   "source": [
    "model.compile(losses=[MSE(),MAE()])"
   ]
  },
  {
   "cell_type": "code",
   "execution_count": 11,
   "metadata": {},
   "outputs": [
    {
     "ename": "SyntaxError",
     "evalue": "invalid syntax. Maybe you meant '==' or ':=' instead of '='? (723524728.py, line 1)",
     "output_type": "error",
     "traceback": [
      "\u001b[1;36m  Cell \u001b[1;32mIn[11], line 1\u001b[1;36m\u001b[0m\n\u001b[1;33m    model.train(train_data={x = x, y = y_true}, epochs=3, batch_size=32, )\u001b[0m\n\u001b[1;37m                            ^\u001b[0m\n\u001b[1;31mSyntaxError\u001b[0m\u001b[1;31m:\u001b[0m invalid syntax. Maybe you meant '==' or ':=' instead of '='?\n"
     ]
    }
   ],
   "source": [
    "model.train(train_data={'x' : x, \n",
    "                        'y' : y_true} \n",
    "                        , epochs=3, batch_size=32, )"
   ]
  }
 ],
 "metadata": {
  "kernelspec": {
   "display_name": "Python 3",
   "language": "python",
   "name": "python3"
  },
  "language_info": {
   "codemirror_mode": {
    "name": "ipython",
    "version": 3
   },
   "file_extension": ".py",
   "mimetype": "text/x-python",
   "name": "python",
   "nbconvert_exporter": "python",
   "pygments_lexer": "ipython3",
   "version": "3.10.11"
  },
  "orig_nbformat": 4
 },
 "nbformat": 4,
 "nbformat_minor": 2
}
