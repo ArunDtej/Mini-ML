{
 "cells": [
  {
   "attachments": {},
   "cell_type": "markdown",
   "metadata": {},
   "source": [
    "Importing Modules"
   ]
  },
  {
   "cell_type": "code",
   "execution_count": 24,
   "metadata": {},
   "outputs": [],
   "source": [
    "from HomeMadeML.Loss import MSE, MAE, SparseCategoricalCrossentropy\n",
    "import HomeMadeML.Layer as Layer\n",
    "import numpy as np\n",
    "from HomeMadeML.Optimizers import Adam\n",
    "from HomeMadeML.Model import HomeMadeModel"
   ]
  },
  {
   "attachments": {},
   "cell_type": "markdown",
   "metadata": {},
   "source": [
    "Loading MNIST dataset"
   ]
  },
  {
   "cell_type": "code",
   "execution_count": 25,
   "metadata": {},
   "outputs": [],
   "source": [
    "import tensorflow as tf\n",
    "\n",
    "mnist = tf.keras.datasets.mnist\n",
    "(x_train, y_train), (x_test, y_test) = mnist.load_data()\n",
    "\n",
    "x_train, x_test = x_train / 255.0, x_test / 255.0\n",
    "\n",
    "# y_train_onehot = tf.one_hot(y_train, depth=10)\n",
    "# y_test_onehot = tf.one_hot(y_test, depth=10)\n",
    "\n",
    "# y_train_onehot = np.asarray(y_train_onehot)\n",
    "# y_test_onehot = np.asarray(y_test_onehot)"
   ]
  },
  {
   "cell_type": "code",
   "execution_count": 26,
   "metadata": {},
   "outputs": [
    {
     "name": "stdout",
     "output_type": "stream",
     "text": [
      "(60000, 28, 28) (60000,)\n",
      "(10000, 28, 28) (10000,)\n"
     ]
    }
   ],
   "source": [
    "print(x_train.shape, y_train.shape)\n",
    "print(x_test.shape, y_test.shape)"
   ]
  },
  {
   "attachments": {},
   "cell_type": "markdown",
   "metadata": {},
   "source": [
    "Building Sequential model"
   ]
  },
  {
   "cell_type": "code",
   "execution_count": 27,
   "metadata": {},
   "outputs": [],
   "source": [
    "l1 = Layer.InputLayer()\n",
    "l2 = Layer.Dense(l1,input_shape= 28*28, output_shape= 12)\n",
    "l3 = Layer.LeakyRelu(l2)\n",
    "l4 = Layer.Dense(l3,12,10)\n",
    "l5 = Layer.Relu(l4)\n",
    "l6 = Layer.Dense(l5,10,10)\n",
    "structure = [l1,l2,l3,l4,l5,l6]\n",
    "model = HomeMadeModel(structure=structure)"
   ]
  },
  {
   "cell_type": "code",
   "execution_count": 28,
   "metadata": {},
   "outputs": [],
   "source": [
    "model.compile(Adam(lr = 0.01), losses=[SparseCategoricalCrossentropy()])"
   ]
  },
  {
   "cell_type": "code",
   "execution_count": 29,
   "metadata": {},
   "outputs": [],
   "source": [
    "x_train = x_train.reshape(-1, 28*28)\n",
    "x_test = x_test.reshape(-1, 28*28)"
   ]
  },
  {
   "cell_type": "code",
   "execution_count": 30,
   "metadata": {},
   "outputs": [
    {
     "name": "stdout",
     "output_type": "stream",
     "text": [
      "Epoch : 0\n"
     ]
    },
    {
     "name": "stderr",
     "output_type": "stream",
     "text": [
      "938it [00:32, 28.97it/s, Loss=2.3397052]                         \n"
     ]
    },
    {
     "name": "stdout",
     "output_type": "stream",
     "text": [
      "Epoch : 1\n"
     ]
    },
    {
     "name": "stderr",
     "output_type": "stream",
     "text": [
      "938it [00:34, 27.56it/s, Loss=0.76897585]                         \n"
     ]
    },
    {
     "name": "stdout",
     "output_type": "stream",
     "text": [
      "Epoch : 2\n"
     ]
    },
    {
     "name": "stderr",
     "output_type": "stream",
     "text": [
      "938it [00:30, 30.84it/s, Loss=0.5139332]                          \n"
     ]
    },
    {
     "name": "stdout",
     "output_type": "stream",
     "text": [
      "Epoch : 3\n"
     ]
    },
    {
     "name": "stderr",
     "output_type": "stream",
     "text": [
      "938it [00:25, 37.35it/s, Loss=0.4103282]                          \n"
     ]
    }
   ],
   "source": [
    "model.train(train_data={'x' : x_train, \n",
    "                        'y' : np.asarray((y_train))}\n",
    "                        , epochs=4, batch_size=64, )"
   ]
  },
  {
   "cell_type": "code",
   "execution_count": 31,
   "metadata": {},
   "outputs": [],
   "source": [
    "predictions = model(x_test)"
   ]
  },
  {
   "cell_type": "code",
   "execution_count": 32,
   "metadata": {},
   "outputs": [
    {
     "name": "stdout",
     "output_type": "stream",
     "text": [
      "Accuracy on test data : 0.8816\n"
     ]
    }
   ],
   "source": [
    "cnt = 0\n",
    "for i in range(len(predictions)):\n",
    "    if np.argmax(predictions[i]) == y_test[i]:\n",
    "        cnt += 1\n",
    "print('Accuracy on test data : {}'.format(cnt/len(predictions)))"
   ]
  },
  {
   "cell_type": "code",
   "execution_count": 33,
   "metadata": {},
   "outputs": [],
   "source": [
    "predictions = model(x_train)"
   ]
  },
  {
   "cell_type": "code",
   "execution_count": 34,
   "metadata": {},
   "outputs": [
    {
     "name": "stdout",
     "output_type": "stream",
     "text": [
      "Accuracy on train data : 0.88295\n"
     ]
    }
   ],
   "source": [
    "cnt = 0\n",
    "for i in range(len(predictions)):\n",
    "    if np.argmax(predictions[i]) == y_train[i]:\n",
    "        cnt += 1\n",
    "print('Accuracy on train data : {}'.format(cnt/len(predictions)))"
   ]
  }
 ],
 "metadata": {
  "kernelspec": {
   "display_name": "Python 3",
   "language": "python",
   "name": "python3"
  },
  "language_info": {
   "codemirror_mode": {
    "name": "ipython",
    "version": 3
   },
   "file_extension": ".py",
   "mimetype": "text/x-python",
   "name": "python",
   "nbconvert_exporter": "python",
   "pygments_lexer": "ipython3",
   "version": "3.10.11"
  },
  "orig_nbformat": 4
 },
 "nbformat": 4,
 "nbformat_minor": 2
}
